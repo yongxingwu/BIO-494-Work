{
  "nbformat": 4,
  "nbformat_minor": 0,
  "metadata": {
    "colab": {
      "name": "Yong Xing Wu - spinal-exercises.ipynb",
      "version": "0.3.2",
      "provenance": [],
      "include_colab_link": true
    },
    "kernelspec": {
      "display_name": "Python 3",
      "language": "python",
      "name": "python3"
    }
  },
  "cells": [
    {
      "cell_type": "markdown",
      "metadata": {
        "id": "view-in-github",
        "colab_type": "text"
      },
      "source": [
        "<a href=\"https://colab.research.google.com/github/yongxingwu/BIO-494-Work/blob/master/Yong_Xing_Wu_spinal_exercises.ipynb\" target=\"_parent\"><img src=\"https://colab.research.google.com/assets/colab-badge.svg\" alt=\"Open In Colab\"/></a>"
      ]
    },
    {
      "metadata": {
        "id": "dmMOpsiNEB2y",
        "colab_type": "text"
      },
      "cell_type": "markdown",
      "source": [
        "# Pandas dataframe exercises using the sprinter reaction time dataset.  \n",
        "## Goal: Get familiar with basic dataframe operations"
      ]
    },
    {
      "metadata": {
        "id": "MwYccFGNEB22",
        "colab_type": "text"
      },
      "cell_type": "markdown",
      "source": [
        "The code block below is a preamble that loads the libraries that we need and sets things up the way we like it.  You can copy and paste this preamble and put it in any notebook to have access to the same libraries."
      ]
    },
    {
      "metadata": {
        "id": "qW0Ry6vpEB25",
        "colab_type": "code",
        "colab": {}
      },
      "cell_type": "code",
      "source": [
        "# Tells the notebooks to view every graph \"in line\" automatically, rather than requiring a specific `show` command\n",
        "%matplotlib inline \n",
        "# Loads the numpy library (for math stuff)\n",
        "import numpy as np \n",
        "# Load the pandas library (what we use to create, explore, and analyze datasets)\n",
        "import pandas as pd \n",
        "# Loads the matplotlib library (what we use to create graphs)\n",
        "import matplotlib.pyplot as plt \n",
        "# Loads the seaborn library (what we use to create prettier graphs)\n",
        "import seaborn as sns \n",
        "# Sets the default font size for graphs to 150% of its original value (for readability)\n",
        "sns.set(font_scale=1.5) "
      ],
      "execution_count": 0,
      "outputs": []
    },
    {
      "metadata": {
        "id": "qLkIhil5EB3B",
        "colab_type": "text"
      },
      "cell_type": "markdown",
      "source": [
        "#### First we load the original data into a Pandas dataframe called `df`"
      ]
    },
    {
      "metadata": {
        "id": "qBo7pt3zEB3D",
        "colab_type": "code",
        "outputId": "67c3a388-b58d-4604-ca5c-258431183540",
        "colab": {}
      },
      "cell_type": "code",
      "source": [
        "url = \"https://raw.githubusercontent.com/rgerkin/neuro-data-analysis-course/master/data/spinal/2004-2016-Short-Races2.csv\"\n",
        "df = pd.read_csv(url) # Loads the data from that URL into a dataframe\n",
        "df.head() # Shows the first few rows of that dataframe"
      ],
      "execution_count": 0,
      "outputs": [
        {
          "output_type": "execute_result",
          "data": {
            "text/html": [
              "<div>\n",
              "<style scoped>\n",
              "    .dataframe tbody tr th:only-of-type {\n",
              "        vertical-align: middle;\n",
              "    }\n",
              "\n",
              "    .dataframe tbody tr th {\n",
              "        vertical-align: top;\n",
              "    }\n",
              "\n",
              "    .dataframe thead th {\n",
              "        text-align: right;\n",
              "    }\n",
              "</style>\n",
              "<table border=\"1\" class=\"dataframe\">\n",
              "  <thead>\n",
              "    <tr style=\"text-align: right;\">\n",
              "      <th></th>\n",
              "      <th>Unnamed: 0</th>\n",
              "      <th>POS</th>\n",
              "      <th>BIB</th>\n",
              "      <th>ATHLETE</th>\n",
              "      <th>COUNTRY</th>\n",
              "      <th>MARK</th>\n",
              "      <th>RxnTime</th>\n",
              "      <th>Race</th>\n",
              "      <th>Round</th>\n",
              "      <th>Gender</th>\n",
              "      <th>Year</th>\n",
              "    </tr>\n",
              "  </thead>\n",
              "  <tbody>\n",
              "    <tr>\n",
              "      <th>0</th>\n",
              "      <td>0</td>\n",
              "      <td>1.0</td>\n",
              "      <td>NaN</td>\n",
              "      <td>Usain BOLT</td>\n",
              "      <td>JAMJAM</td>\n",
              "      <td>10.20 Q</td>\n",
              "      <td>0.186</td>\n",
              "      <td>100 m</td>\n",
              "      <td>Heats</td>\n",
              "      <td>M</td>\n",
              "      <td>2008</td>\n",
              "    </tr>\n",
              "    <tr>\n",
              "      <th>1</th>\n",
              "      <td>1</td>\n",
              "      <td>2.0</td>\n",
              "      <td>NaN</td>\n",
              "      <td>Daniel BAILEY</td>\n",
              "      <td>ANTANT</td>\n",
              "      <td>10.24 Q</td>\n",
              "      <td>0.198</td>\n",
              "      <td>100 m</td>\n",
              "      <td>Heats</td>\n",
              "      <td>M</td>\n",
              "      <td>2008</td>\n",
              "    </tr>\n",
              "    <tr>\n",
              "      <th>2</th>\n",
              "      <td>2</td>\n",
              "      <td>3.0</td>\n",
              "      <td>NaN</td>\n",
              "      <td>Vicente DE LIMA</td>\n",
              "      <td>BRABRA</td>\n",
              "      <td>10.26 Q</td>\n",
              "      <td>0.168</td>\n",
              "      <td>100 m</td>\n",
              "      <td>Heats</td>\n",
              "      <td>M</td>\n",
              "      <td>2008</td>\n",
              "    </tr>\n",
              "    <tr>\n",
              "      <th>3</th>\n",
              "      <td>3</td>\n",
              "      <td>4.0</td>\n",
              "      <td>NaN</td>\n",
              "      <td>Henry VIZCAÍNO</td>\n",
              "      <td>CUBCUB</td>\n",
              "      <td>10.28 q</td>\n",
              "      <td>0.157</td>\n",
              "      <td>100 m</td>\n",
              "      <td>Heats</td>\n",
              "      <td>M</td>\n",
              "      <td>2008</td>\n",
              "    </tr>\n",
              "    <tr>\n",
              "      <th>4</th>\n",
              "      <td>4</td>\n",
              "      <td>5.0</td>\n",
              "      <td>NaN</td>\n",
              "      <td>Fabio CERUTTI</td>\n",
              "      <td>ITAITA</td>\n",
              "      <td>10.49</td>\n",
              "      <td>0.136</td>\n",
              "      <td>100 m</td>\n",
              "      <td>Heats</td>\n",
              "      <td>M</td>\n",
              "      <td>2008</td>\n",
              "    </tr>\n",
              "  </tbody>\n",
              "</table>\n",
              "</div>"
            ],
            "text/plain": [
              "   Unnamed: 0  POS  BIB          ATHLETE COUNTRY     MARK  RxnTime   Race  \\\n",
              "0           0  1.0  NaN       Usain BOLT  JAMJAM  10.20 Q    0.186  100 m   \n",
              "1           1  2.0  NaN    Daniel BAILEY  ANTANT  10.24 Q    0.198  100 m   \n",
              "2           2  3.0  NaN  Vicente DE LIMA  BRABRA  10.26 Q    0.168  100 m   \n",
              "3           3  4.0  NaN   Henry VIZCAÍNO  CUBCUB  10.28 q    0.157  100 m   \n",
              "4           4  5.0  NaN    Fabio CERUTTI  ITAITA    10.49    0.136  100 m   \n",
              "\n",
              "   Round Gender  Year  \n",
              "0  Heats      M  2008  \n",
              "1  Heats      M  2008  \n",
              "2  Heats      M  2008  \n",
              "3  Heats      M  2008  \n",
              "4  Heats      M  2008  "
            ]
          },
          "metadata": {
            "tags": []
          },
          "execution_count": 2
        }
      ]
    },
    {
      "metadata": {
        "id": "hcKGpejLEB3P",
        "colab_type": "text"
      },
      "cell_type": "markdown",
      "source": [
        "#### Now complete the numbered tasks below.  Read the question, then use the code block to fill in your solution"
      ]
    },
    {
      "metadata": {
        "id": "mRSQXF9mEB3Q",
        "colab_type": "text"
      },
      "cell_type": "markdown",
      "source": [
        "1) A method is just a function that belongs to an object (like a dataframe).  The `.head()` method is a good way to preview the data that you loaded.  Sometimes people work with datasets with thousands or even millions of rows.  You usually don't need to see them all at once!  But sometimes you want to see more than 5 rows.  Try passing an argument to `.head()`, in order to see more rows.  For example, `.head(10)` to see 10 rows.  Or pick some other number."
      ]
    },
    {
      "metadata": {
        "id": "RHNKI56vEB3S",
        "colab_type": "code",
        "colab": {}
      },
      "cell_type": "code",
      "source": [
        "# Fill in your answer to 1 here"
      ],
      "execution_count": 0,
      "outputs": []
    },
    {
      "metadata": {
        "id": "5TeZdKcgEB3X",
        "colab_type": "text"
      },
      "cell_type": "markdown",
      "source": [
        "2) You can also look at the *last* few rows of the data, using the `.tail()` method. Try viewing the last 12 rows of the dataset.  "
      ]
    },
    {
      "metadata": {
        "id": "FJzHAJmtEB3Z",
        "colab_type": "code",
        "colab": {}
      },
      "cell_type": "code",
      "source": [
        "# Fill in your answer to 2 here"
      ],
      "execution_count": 0,
      "outputs": []
    },
    {
      "metadata": {
        "id": "LZB3iMLaEB3c",
        "colab_type": "text"
      },
      "cell_type": "markdown",
      "source": [
        "3) How much data do you have?  You can find how many rows and columns you have with the `.shape` attribute.  Note the lack of parentheses here.  Attributes differ from methods in that they don't actually do anything (like print out information, or make a plot), but you can access their value to get information about your data.  The `.shape` attribute reports the number of rows and columns of the dataframe.  How many columns does the dataframe have?  "
      ]
    },
    {
      "metadata": {
        "id": "h0GgzWcXEB3d",
        "colab_type": "code",
        "colab": {}
      },
      "cell_type": "code",
      "source": [
        "# Fill in your answer to 3 here"
      ],
      "execution_count": 0,
      "outputs": []
    },
    {
      "metadata": {
        "id": "RYpJlX08EB3i",
        "colab_type": "text"
      },
      "cell_type": "markdown",
      "source": [
        "4) Sometimes you only care about one column in your dataframe.  You can access it be name.  For example, `df['ATHLETE']` will access the \"ATHLETE\" column.  Access the column for reaction time. "
      ]
    },
    {
      "metadata": {
        "id": "chh8JUvcEB3j",
        "colab_type": "code",
        "colab": {}
      },
      "cell_type": "code",
      "source": [
        "# Fill in your answer to 4 here"
      ],
      "execution_count": 0,
      "outputs": []
    },
    {
      "metadata": {
        "id": "0cV6Ibz7EB3o",
        "colab_type": "text"
      },
      "cell_type": "markdown",
      "source": [
        "5) Notice that the above doesn't look like a dataframe anymore.  That's because you've only accessed one column, so the two-dimensional dataset (rows x columns) is now only one-dimensional. One-dimensional data in Pandas is convered into a so-called \"Series\".  Many of the same methods that belong to dataframes also belong to a series, e.g. `.head()` or `.mean()`.  Find the median reaction time as you did in the earlier homework assignment, but operating directly on the series containing the reaction times.  "
      ]
    },
    {
      "metadata": {
        "id": "z8WVnE0aEB3r",
        "colab_type": "code",
        "colab": {}
      },
      "cell_type": "code",
      "source": [
        "# Fill in your answer to 5 here"
      ],
      "execution_count": 0,
      "outputs": []
    },
    {
      "metadata": {
        "id": "wl3hbzEOEB32",
        "colab_type": "text"
      },
      "cell_type": "markdown",
      "source": [
        "6) Sometimes you want to keep a dataframe, but just with fewer columns.  For example, only the name and reaction time.  You do this with an extra set of brackets, i.e. `df[['col1','col2']]` if you wanted to access hypothetical columns named 'col1' and 'col2'.  Try generating a dataframe that has only the name and reaction time columns from the original dataset.  "
      ]
    },
    {
      "metadata": {
        "id": "Krf3xRRIEB34",
        "colab_type": "code",
        "colab": {}
      },
      "cell_type": "code",
      "source": [
        "# Fill in your answer to 6 here"
      ],
      "execution_count": 0,
      "outputs": []
    },
    {
      "metadata": {
        "id": "vlsFyhOiEB38",
        "colab_type": "text"
      },
      "cell_type": "markdown",
      "source": [
        "7) Columns have names ('ATHLETE', 'COUNTRY', etc.), but so do rows.  The row names are part of the so-called \"index\" of the dataframe (or series), and allow you to access data more intuitively than just by row number.  In this case though, the names in the index are the row numbers.  You can extract row 144 with `df.loc[144]`.  Note the use of the `.loc` attribute, and the brackets instead of parentheses.  Use this extract the row containing Usain Bolt's 2008 preliminary heats data (hint, it is at the beginning of the dataframe)."
      ]
    },
    {
      "metadata": {
        "id": "9sFE_YtXEB39",
        "colab_type": "code",
        "colab": {}
      },
      "cell_type": "code",
      "source": [
        "# Fill in your answer to 7 here"
      ],
      "execution_count": 0,
      "outputs": []
    },
    {
      "metadata": {
        "id": "id0-123EEB4B",
        "colab_type": "text"
      },
      "cell_type": "markdown",
      "source": [
        "8) You can access specific cells of the dataframe by row and column using `.loc`, e.g. `df.loc[7,'Country']`.  You can also edit data the same way.  Maybe Usain Bolt's preliminary heats time was faster than reported, say 9.5 seconds?  Edit the dataframe with `.loc` to make that change.  Be sure to use the `=` sign or you won't actually make the change!"
      ]
    },
    {
      "metadata": {
        "id": "yXE-UCMLEB4E",
        "colab_type": "code",
        "colab": {}
      },
      "cell_type": "code",
      "source": [
        "# Fill in your answer to 8 here"
      ],
      "execution_count": 0,
      "outputs": []
    },
    {
      "metadata": {
        "id": "McpuJjp7EB4H",
        "colab_type": "text"
      },
      "cell_type": "markdown",
      "source": [
        "9) I don't like the way this data is organized.  Accessing it by arbitrary row numbers is not intuitive at all.  Let's organize the data by athlete name and year instead, using the `set_index()` method.  Inside the parentheses, put a list containing the column name indicating athlete name and the column name indicating the year.  Don't forget quotes and brackets!  "
      ]
    },
    {
      "metadata": {
        "id": "GHHs7a6lEB4J",
        "colab_type": "code",
        "colab": {}
      },
      "cell_type": "code",
      "source": [
        "# Fill in your answer to 9 here"
      ],
      "execution_count": 0,
      "outputs": []
    },
    {
      "metadata": {
        "id": "zxa3eV78EB4P",
        "colab_type": "text"
      },
      "cell_type": "markdown",
      "source": [
        "10) That's OK, but it doesn't look much nicer.  Maybe if it the index was sorted?  If you've ever done a hierarchical sort in Excel, this will be similar.  Try the same command as above, but append `.sort_index()`  to it"
      ]
    },
    {
      "metadata": {
        "id": "P8uvfNy6EB4R",
        "colab_type": "code",
        "colab": {}
      },
      "cell_type": "code",
      "source": [
        "# Fill in your answer to 10 here"
      ],
      "execution_count": 0,
      "outputs": []
    },
    {
      "metadata": {
        "id": "swuM0uviEB4V",
        "colab_type": "text"
      },
      "cell_type": "markdown",
      "source": [
        "11) Display the dataframe again by entering `df` on an empty line (e.g. in the code cell below, or create a new code cell).  Does it reflect the changes you made above?  If not, it's because `.set_index()`, `.sort_index()` (and most other methods) only return modified copies of your data; they don't overwrite it.  If you want to work with that modified copy, set the original dataframe equal to it, i.e. `df = ...` where `...` would contain the command you used above.  "
      ]
    },
    {
      "metadata": {
        "id": "uESyX-C9EB4Z",
        "colab_type": "code",
        "colab": {}
      },
      "cell_type": "code",
      "source": [
        "# Fill in your answer to 11 here"
      ],
      "execution_count": 0,
      "outputs": []
    },
    {
      "metadata": {
        "id": "9HiZsdX6EB4g",
        "colab_type": "text"
      },
      "cell_type": "markdown",
      "source": [
        "Now that `df` has been changed, some of the commands in the earlier questions won't work the same.  So you won't be able to access e.g. `df.loc[7]` anymore, because there is no longer a row named 7!  This is why you should always execute notebooks from top to bottom.  Each notebook cell can change the data in a way that a cell above it doesn't know about.  "
      ]
    },
    {
      "metadata": {
        "id": "4I93pNbEEB4h",
        "colab_type": "text"
      },
      "cell_type": "markdown",
      "source": [
        "12) But now we have an intuitive index for the data frame.  Instead of accessing something like `df.loc[7]` we can access by name and year (using the same `.loc` attribute).  First just try accessing Usain Bolt's data by name (note that his last name is all capital letters in this dataset).  Note that it will contain results from several races across several years.  "
      ]
    },
    {
      "metadata": {
        "id": "_GN0HeTHEB4j",
        "colab_type": "code",
        "colab": {}
      },
      "cell_type": "code",
      "source": [
        "# Fill in your answer to 12 here"
      ],
      "execution_count": 0,
      "outputs": []
    },
    {
      "metadata": {
        "id": "4o6Ry35CEB4q",
        "colab_type": "text"
      },
      "cell_type": "markdown",
      "source": [
        "13) You can further restrict the data to a single year by using the `.loc` attribute again (\"chaining\" operations together), and now including a specific year.  Access Usain Bolt's data for 2008.  Hint: it will look just like the answer above, but with an extra `.loc` appended on.  "
      ]
    },
    {
      "metadata": {
        "id": "BVMbDVLfEB4s",
        "colab_type": "code",
        "colab": {}
      },
      "cell_type": "code",
      "source": [
        "# Fill in your answer to 13 here"
      ],
      "execution_count": 0,
      "outputs": []
    },
    {
      "metadata": {
        "id": "-JfooFgOEB4v",
        "colab_type": "text"
      },
      "cell_type": "markdown",
      "source": [
        "14) How fast does Usain Bolt react to the starting gun?  Find his minimum Olympic sprint reaction time by acessing his data using `.loc`, accessing reaction time by column name, and then computing the minimum.  Hint: the *maximum* is obtained with the `.max()` method.  "
      ]
    },
    {
      "metadata": {
        "id": "BHEKSTbiEB4w",
        "colab_type": "code",
        "colab": {}
      },
      "cell_type": "code",
      "source": [
        "# Fill in your answer to 14 here"
      ],
      "execution_count": 0,
      "outputs": []
    },
    {
      "metadata": {
        "id": "9PLT7fdsEB41",
        "colab_type": "text"
      },
      "cell_type": "markdown",
      "source": [
        "15) Usain Bolt was the fastest 100m sprinter of all time, but he didn't try his hardest until the finals of each meet (he didn't need to).  Let's extract only his data from the finals.  This takes only one step, but we'll do it in two to make the idea clear.  First, let's generate a series that tells us whether it is True or False that a given race was a final.  Just paste `df['Round'] == 'Final'` in the cell below.  You will see a series containig some `True` values and some `False` values (mostly the latter), reflecting rows containing data from finals vs. other rounds.  Note the ellipsis halfway down, which represents all the data (hundreds of rows) it isn't showing you to save space.  "
      ]
    },
    {
      "metadata": {
        "id": "UGNUFle-EB42",
        "colab_type": "code",
        "colab": {}
      },
      "cell_type": "code",
      "source": [
        "# Fill in your answer to 15 here"
      ],
      "execution_count": 0,
      "outputs": []
    },
    {
      "metadata": {
        "id": "U28JRQSCEB45",
        "colab_type": "text"
      },
      "cell_type": "markdown",
      "source": [
        "16) The expression above can be used as a \"selector\", to select data from the dataframe which matches the desired condition (i.e. only 200 m races).  Place it inside brackets (i.e. inside `df[]`) to access only the 200 m races from the original data.  "
      ]
    },
    {
      "metadata": {
        "id": "Tvtyt-eeEB46",
        "colab_type": "code",
        "colab": {}
      },
      "cell_type": "code",
      "source": [
        "# Fill in your answer to 16 here"
      ],
      "execution_count": 0,
      "outputs": []
    },
    {
      "metadata": {
        "id": "Uc1Mo2ndEB4_",
        "colab_type": "text"
      },
      "cell_type": "markdown",
      "source": [
        "17) Now use the above, plus chaining with `.loc[]` and `max()` to find Usain Bolt's *worst* reaction time in an Olympics final.   "
      ]
    },
    {
      "metadata": {
        "id": "S8_kWFjYEB5A",
        "colab_type": "code",
        "colab": {}
      },
      "cell_type": "code",
      "source": [
        "# Fill in your answer to 17 here"
      ],
      "execution_count": 0,
      "outputs": []
    },
    {
      "metadata": {
        "id": "C9sVFF7cEB5C",
        "colab_type": "text"
      },
      "cell_type": "markdown",
      "source": [
        "18) Let's clean up this data a little bit more.  See all the `NaN` values above?  Those correspond to missing data (NaN stands for \"Not a Number\").  We can get rid of rows that have missing data with the `.dropna()` method.  But some missing data is irrelevant to our analysis.  Who cares if the bib number is missing?  Select only those columns we care about (let's say reaction time, round, and gender) using the approach from question 6, and then use `dropna()` on that subset of the columns.  Chain that with `.shape` to see how many rows the remaining data has.  It should be less than the number of rows we started with (because we removed some rows), but still well more than 0!"
      ]
    },
    {
      "metadata": {
        "id": "4-lpoYy8EB5H",
        "colab_type": "code",
        "colab": {}
      },
      "cell_type": "code",
      "source": [
        "# Fill in your answer to 18 here"
      ],
      "execution_count": 0,
      "outputs": []
    },
    {
      "metadata": {
        "id": "P9GLGsUHEB5M",
        "colab_type": "text"
      },
      "cell_type": "markdown",
      "source": [
        "19) Do Americans sprinters react faster than Canadian sprinters?  No one would ever fund such a study, but you can answer that question right here for free!  Use the `.groupby()` method to aggregate sprinters by country `.groupby('COUNTRY')`, select the reaction time column, and chain it with `.mean()` to compare mean reaction time across countries.  You can further optionally append `[['USAUSA','CANCAN']]` to focus on only those two countries.  Why are all the country names doubled?  I think it is because the person who compiled this dataset likes to say, \"U-S-A!  U-S-A!\" and just repeated that for every country.  "
      ]
    },
    {
      "metadata": {
        "id": "iYzm0kPYEB5O",
        "colab_type": "code",
        "outputId": "af239d60-cceb-479c-c400-4daa31346215",
        "colab": {}
      },
      "cell_type": "code",
      "source": [
        "# Fill in your answer to 19 here\n",
        "df.groupby('COUNTRY')['RxnTime'].mean()[['USAUSA','CANCAN']]"
      ],
      "execution_count": 0,
      "outputs": [
        {
          "output_type": "execute_result",
          "data": {
            "text/plain": [
              "COUNTRY\n",
              "USAUSA    0.170185\n",
              "CANCAN    0.159889\n",
              "Name: RxnTime, dtype: float64"
            ]
          },
          "metadata": {
            "tags": []
          },
          "execution_count": 49
        }
      ]
    },
    {
      "metadata": {
        "id": "cxwX22ljEB5S",
        "colab_type": "code",
        "colab": {}
      },
      "cell_type": "code",
      "source": [
        "# Be sure to run this code cell!\n",
        "from scipy.stats import ttest_ind"
      ],
      "execution_count": 0,
      "outputs": []
    },
    {
      "metadata": {
        "id": "0fkvE7o_EB5U",
        "colab_type": "text"
      },
      "cell_type": "markdown",
      "source": [
        "20) So *do* Americans react faster (or slower) than Canadians? In the previous question we only computed the means.  What about the variability?  Let's assume for the moment that a t-test is a good way to compare the two groups.  Extract the two groups using the data using the selector approach from question 16, extract the reaction time from each, drop the missing values, and assigning one to the variable `usa` and the other to the variable `can`.  Don't use `groupby()` here.  Having loaded a t-test function (`ttest_ind` in the cell above), call that function using your selected groups (`ttest_ind(usa,can)`).  Note that you can have multiple command in a code cell, as long each one is on its own line.  "
      ]
    },
    {
      "metadata": {
        "id": "jZI38aRmEB5V",
        "colab_type": "code",
        "colab": {}
      },
      "cell_type": "code",
      "source": [
        "# Fill in your answer to 20 here"
      ],
      "execution_count": 0,
      "outputs": []
    },
    {
      "metadata": {
        "id": "SiMYctCmEB5Z",
        "colab_type": "text"
      },
      "cell_type": "markdown",
      "source": [
        "21) Oh my, are we going to win a Nobel Prize for this discovery?  Or have we failed to control for something?  Maybe one country has more male vs female athletes, or more sprinters vs hurdlers.  Repeat the above, restricting the data to men (21a), then to women (21b), then to only 100 m sprinters (21c).  You can have multiple `==` expressions in your selector, but you should use parentheses to keep them separated e.g. `(df['COUNTRY']=='USA') && (df['Gender']=='F')`.  "
      ]
    },
    {
      "metadata": {
        "id": "UWtG2JaVEB5b",
        "colab_type": "code",
        "colab": {}
      },
      "cell_type": "code",
      "source": [
        "# Fill in your answer to 21a here"
      ],
      "execution_count": 0,
      "outputs": []
    },
    {
      "metadata": {
        "id": "7IcPQUMCEB5e",
        "colab_type": "code",
        "colab": {}
      },
      "cell_type": "code",
      "source": [
        "# Fill in your answer to 21b here"
      ],
      "execution_count": 0,
      "outputs": []
    },
    {
      "metadata": {
        "id": "HoUTQXM7EB5h",
        "colab_type": "code",
        "colab": {}
      },
      "cell_type": "code",
      "source": [
        "# Fill in your answer to 21c here"
      ],
      "execution_count": 0,
      "outputs": []
    },
    {
      "metadata": {
        "id": "F_OSm7ngEB5k",
        "colab_type": "text"
      },
      "cell_type": "markdown",
      "source": [
        "### Congratulations, you are now familiar with the basic of programmatic operations on structured data!"
      ]
    }
  ]
}